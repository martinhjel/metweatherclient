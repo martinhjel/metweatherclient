{
 "cells": [
  {
   "cell_type": "code",
   "execution_count": 86,
   "metadata": {},
   "outputs": [],
   "source": [
    "import requests\n",
    "import datetime\n",
    "import pandas as pd\n",
    "from urllib.parse import urlencode\n",
    "import json\n",
    "import ast\n",
    "import matplotlib.pyplot as plt"
   ]
  },
  {
   "cell_type": "code",
   "execution_count": 87,
   "metadata": {},
   "outputs": [],
   "source": [
    "client_id = \"b36a9334-2bb2-4880-bdc2-38bbaaec481f\"\n",
    "client_secret = \"4f781612-6f3e-4cd4-90fe-1ab8c36cd26b\"\n"
   ]
  },
  {
   "cell_type": "code",
   "execution_count": 92,
   "metadata": {},
   "outputs": [],
   "source": [
    "BASE_URL = \"https://frost.met.no/lightning/v0.ualf?\"\n",
    "\n",
    "\n",
    "params = {\n",
    "    \"referencetime\": \"latest\",\n",
    "    \"maxage\": \"P10Y\",\n",
    "    \"geometry\": \"POLYGON((10 59, 10 60, 11 60, 11 59, 10 59))\"\n",
    "}\n",
    "\n",
    "# params = {\n",
    "#     \"referencetime\": \"2018-01-01/2018-01-20\",\n",
    "#     \"geometry\": \"POLYGON((10 59, 10 60, 11 60, 11 59, 10 59))\"\n",
    "# }"
   ]
  },
  {
   "cell_type": "code",
   "execution_count": 94,
   "metadata": {},
   "outputs": [],
   "source": [
    "results = requests.get(BASE_URL, params=params, auth=(client_id,client_secret))\n",
    "results.raise_for_status()"
   ]
  },
  {
   "cell_type": "code",
   "execution_count": 95,
   "metadata": {},
   "outputs": [],
   "source": [
    "int_type = (\n",
    "    [True for i in range(8)] + [False for i in range(2)]\n",
    "    + [True for i in range(4)] + [False for i in range(7)] + [True for i in range(4)]\n",
    ")"
   ]
  },
  {
   "cell_type": "code",
   "execution_count": 96,
   "metadata": {},
   "outputs": [
    {
     "name": "stdout",
     "output_type": "stream",
     "text": [
      ", \n"
     ]
    }
   ],
   "source": [
    "lst = []\n",
    "for line in results.text.split('\\n'):\n",
    "    lst.append([])\n",
    "    for int_t, i in zip(int_type, line.split(' ')):\n",
    "        try:\n",
    "            if int_t:\n",
    "                lst[-1].append(int(i))\n",
    "            else:\n",
    "                lst[-1].append(float(i))\n",
    "        except ValueError:\n",
    "            print(\",\", i)"
   ]
  },
  {
   "cell_type": "code",
   "execution_count": 97,
   "metadata": {},
   "outputs": [],
   "source": [
    "col_names = [\n",
    "    \"version\", \"year\", \"month\", \"day\", \"hour\", \"minutes\", \"seconds\", \"nanoseconds\",\n",
    "    \"latitude\", \"longitude\", \"peakCurrent\", \"multiplicity\", \"numSensors\",\n",
    "    \"degreesOfFreedom\", \"ellipseAngle\", \"semiMajorAxis\", \"semiMinorAxis\", \"chiSquareValue\",\n",
    "    \"riseTime\", \"peakToZeroTime\", \"maxRateOfRise\", \"cloudIndicator\", \"angleIndicator\", \"signalIndicator\", \"timingIndicator\"\n",
    "]"
   ]
  },
  {
   "cell_type": "code",
   "execution_count": 98,
   "metadata": {},
   "outputs": [],
   "source": [
    "df = pd.DataFrame(lst, columns=col_names)"
   ]
  },
  {
   "cell_type": "code",
   "execution_count": 99,
   "metadata": {},
   "outputs": [
    {
     "data": {
      "text/html": [
       "<div>\n",
       "<style scoped>\n",
       "    .dataframe tbody tr th:only-of-type {\n",
       "        vertical-align: middle;\n",
       "    }\n",
       "\n",
       "    .dataframe tbody tr th {\n",
       "        vertical-align: top;\n",
       "    }\n",
       "\n",
       "    .dataframe thead th {\n",
       "        text-align: right;\n",
       "    }\n",
       "</style>\n",
       "<table border=\"1\" class=\"dataframe\">\n",
       "  <thead>\n",
       "    <tr style=\"text-align: right;\">\n",
       "      <th></th>\n",
       "      <th>version</th>\n",
       "      <th>year</th>\n",
       "      <th>month</th>\n",
       "      <th>day</th>\n",
       "      <th>hour</th>\n",
       "      <th>minutes</th>\n",
       "      <th>seconds</th>\n",
       "      <th>nanoseconds</th>\n",
       "      <th>latitude</th>\n",
       "      <th>longitude</th>\n",
       "      <th>...</th>\n",
       "      <th>semiMajorAxis</th>\n",
       "      <th>semiMinorAxis</th>\n",
       "      <th>chiSquareValue</th>\n",
       "      <th>riseTime</th>\n",
       "      <th>peakToZeroTime</th>\n",
       "      <th>maxRateOfRise</th>\n",
       "      <th>cloudIndicator</th>\n",
       "      <th>angleIndicator</th>\n",
       "      <th>signalIndicator</th>\n",
       "      <th>timingIndicator</th>\n",
       "    </tr>\n",
       "  </thead>\n",
       "  <tbody>\n",
       "    <tr>\n",
       "      <td>0</td>\n",
       "      <td>0.0</td>\n",
       "      <td>2019.0</td>\n",
       "      <td>9.0</td>\n",
       "      <td>5.0</td>\n",
       "      <td>14.0</td>\n",
       "      <td>22.0</td>\n",
       "      <td>46.0</td>\n",
       "      <td>507712000.0</td>\n",
       "      <td>59.0094</td>\n",
       "      <td>10.6487</td>\n",
       "      <td>...</td>\n",
       "      <td>1.26</td>\n",
       "      <td>0.4</td>\n",
       "      <td>4.07</td>\n",
       "      <td>17.4</td>\n",
       "      <td>7.5</td>\n",
       "      <td>2.0</td>\n",
       "      <td>1.0</td>\n",
       "      <td>1.0</td>\n",
       "      <td>0.0</td>\n",
       "      <td>1.0</td>\n",
       "    </tr>\n",
       "    <tr>\n",
       "      <td>1</td>\n",
       "      <td>0.0</td>\n",
       "      <td>2019.0</td>\n",
       "      <td>9.0</td>\n",
       "      <td>5.0</td>\n",
       "      <td>14.0</td>\n",
       "      <td>12.0</td>\n",
       "      <td>48.0</td>\n",
       "      <td>572448512.0</td>\n",
       "      <td>59.0123</td>\n",
       "      <td>10.6457</td>\n",
       "      <td>...</td>\n",
       "      <td>0.46</td>\n",
       "      <td>0.4</td>\n",
       "      <td>3.18</td>\n",
       "      <td>22.4</td>\n",
       "      <td>10.5</td>\n",
       "      <td>-2.3</td>\n",
       "      <td>1.0</td>\n",
       "      <td>1.0</td>\n",
       "      <td>0.0</td>\n",
       "      <td>1.0</td>\n",
       "    </tr>\n",
       "    <tr>\n",
       "      <td>2</td>\n",
       "      <td>0.0</td>\n",
       "      <td>2019.0</td>\n",
       "      <td>9.0</td>\n",
       "      <td>5.0</td>\n",
       "      <td>13.0</td>\n",
       "      <td>45.0</td>\n",
       "      <td>31.0</td>\n",
       "      <td>984885248.0</td>\n",
       "      <td>59.0127</td>\n",
       "      <td>10.4513</td>\n",
       "      <td>...</td>\n",
       "      <td>0.40</td>\n",
       "      <td>0.4</td>\n",
       "      <td>3.99</td>\n",
       "      <td>26.9</td>\n",
       "      <td>14.7</td>\n",
       "      <td>-8.5</td>\n",
       "      <td>0.0</td>\n",
       "      <td>1.0</td>\n",
       "      <td>0.0</td>\n",
       "      <td>1.0</td>\n",
       "    </tr>\n",
       "    <tr>\n",
       "      <td>3</td>\n",
       "      <td>0.0</td>\n",
       "      <td>2019.0</td>\n",
       "      <td>9.0</td>\n",
       "      <td>5.0</td>\n",
       "      <td>13.0</td>\n",
       "      <td>45.0</td>\n",
       "      <td>31.0</td>\n",
       "      <td>970785536.0</td>\n",
       "      <td>59.0158</td>\n",
       "      <td>10.4449</td>\n",
       "      <td>...</td>\n",
       "      <td>0.40</td>\n",
       "      <td>0.4</td>\n",
       "      <td>3.44</td>\n",
       "      <td>18.4</td>\n",
       "      <td>11.1</td>\n",
       "      <td>-0.0</td>\n",
       "      <td>0.0</td>\n",
       "      <td>1.0</td>\n",
       "      <td>0.0</td>\n",
       "      <td>1.0</td>\n",
       "    </tr>\n",
       "    <tr>\n",
       "      <td>4</td>\n",
       "      <td>0.0</td>\n",
       "      <td>2019.0</td>\n",
       "      <td>9.0</td>\n",
       "      <td>5.0</td>\n",
       "      <td>13.0</td>\n",
       "      <td>45.0</td>\n",
       "      <td>31.0</td>\n",
       "      <td>935373056.0</td>\n",
       "      <td>59.0120</td>\n",
       "      <td>10.4546</td>\n",
       "      <td>...</td>\n",
       "      <td>0.40</td>\n",
       "      <td>0.4</td>\n",
       "      <td>0.60</td>\n",
       "      <td>10.3</td>\n",
       "      <td>16.1</td>\n",
       "      <td>-16.2</td>\n",
       "      <td>0.0</td>\n",
       "      <td>1.0</td>\n",
       "      <td>0.0</td>\n",
       "      <td>1.0</td>\n",
       "    </tr>\n",
       "  </tbody>\n",
       "</table>\n",
       "<p>5 rows × 25 columns</p>\n",
       "</div>"
      ],
      "text/plain": [
       "   version    year  month  day  hour  minutes  seconds  nanoseconds  latitude  \\\n",
       "0      0.0  2019.0    9.0  5.0  14.0     22.0     46.0  507712000.0   59.0094   \n",
       "1      0.0  2019.0    9.0  5.0  14.0     12.0     48.0  572448512.0   59.0123   \n",
       "2      0.0  2019.0    9.0  5.0  13.0     45.0     31.0  984885248.0   59.0127   \n",
       "3      0.0  2019.0    9.0  5.0  13.0     45.0     31.0  970785536.0   59.0158   \n",
       "4      0.0  2019.0    9.0  5.0  13.0     45.0     31.0  935373056.0   59.0120   \n",
       "\n",
       "   longitude  ...  semiMajorAxis  semiMinorAxis  chiSquareValue  riseTime  \\\n",
       "0    10.6487  ...           1.26            0.4            4.07      17.4   \n",
       "1    10.6457  ...           0.46            0.4            3.18      22.4   \n",
       "2    10.4513  ...           0.40            0.4            3.99      26.9   \n",
       "3    10.4449  ...           0.40            0.4            3.44      18.4   \n",
       "4    10.4546  ...           0.40            0.4            0.60      10.3   \n",
       "\n",
       "   peakToZeroTime  maxRateOfRise  cloudIndicator  angleIndicator  \\\n",
       "0             7.5            2.0             1.0             1.0   \n",
       "1            10.5           -2.3             1.0             1.0   \n",
       "2            14.7           -8.5             0.0             1.0   \n",
       "3            11.1           -0.0             0.0             1.0   \n",
       "4            16.1          -16.2             0.0             1.0   \n",
       "\n",
       "   signalIndicator  timingIndicator  \n",
       "0              0.0              1.0  \n",
       "1              0.0              1.0  \n",
       "2              0.0              1.0  \n",
       "3              0.0              1.0  \n",
       "4              0.0              1.0  \n",
       "\n",
       "[5 rows x 25 columns]"
      ]
     },
     "execution_count": 99,
     "metadata": {},
     "output_type": "execute_result"
    }
   ],
   "source": [
    "df.head()"
   ]
  },
  {
   "cell_type": "code",
   "execution_count": 100,
   "metadata": {},
   "outputs": [
    {
     "data": {
      "text/plain": [
       "<matplotlib.axes._subplots.AxesSubplot at 0x1bcb64f9780>"
      ]
     },
     "execution_count": 100,
     "metadata": {},
     "output_type": "execute_result"
    },
    {
     "data": {
      "image/png": "[encoded data removed]",
      "text/plain": [
       "<Figure size 432x288 with 1 Axes>"
      ]
     },
     "metadata": {
      "needs_background": "light"
     },
     "output_type": "display_data"
    }
   ],
   "source": [
    "df[\"chiSquareValue\"].plot()"
   ]
  },
  {
   "cell_type": "code",
   "execution_count": 102,
   "metadata": {},
   "outputs": [
    {
     "data": {
      "text/plain": [
       "2014.0    20193\n",
       "2019.0    12811\n",
       "2018.0     4455\n",
       "2013.0     4018\n",
       "2010.0     3743\n",
       "2011.0     3623\n",
       "2016.0     3348\n",
       "2015.0     2712\n",
       "2017.0     2045\n",
       "2012.0     1631\n",
       "2009.0        6\n",
       "Name: year, dtype: int64"
      ]
     },
     "execution_count": 102,
     "metadata": {},
     "output_type": "execute_result"
    }
   ],
   "source": [
    "df[\"year\"].value_counts()"
   ]
  },
  {
   "cell_type": "code",
   "execution_count": 101,
   "metadata": {},
   "outputs": [
    {
     "name": "stdout",
     "output_type": "stream",
     "text": [
      "<class 'pandas.core.frame.DataFrame'>\n",
      "RangeIndex: 58586 entries, 0 to 58585\n",
      "Data columns (total 25 columns):\n",
      "version             58585 non-null float64\n",
      "year                58585 non-null float64\n",
      "month               58585 non-null float64\n",
      "day                 58585 non-null float64\n",
      "hour                58585 non-null float64\n",
      "minutes             58585 non-null float64\n",
      "seconds             58585 non-null float64\n",
      "nanoseconds         58585 non-null float64\n",
      "latitude            58585 non-null float64\n",
      "longitude           58585 non-null float64\n",
      "peakCurrent         58585 non-null float64\n",
      "multiplicity        58585 non-null float64\n",
      "numSensors          58585 non-null float64\n",
      "degreesOfFreedom    58585 non-null float64\n",
      "ellipseAngle        58585 non-null float64\n",
      "semiMajorAxis       58585 non-null float64\n",
      "semiMinorAxis       58585 non-null float64\n",
      "chiSquareValue      58585 non-null float64\n",
      "riseTime            58585 non-null float64\n",
      "peakToZeroTime      58585 non-null float64\n",
      "maxRateOfRise       58585 non-null float64\n",
      "cloudIndicator      58585 non-null float64\n",
      "angleIndicator      58585 non-null float64\n",
      "signalIndicator     58585 non-null float64\n",
      "timingIndicator     58585 non-null float64\n",
      "dtypes: float64(25)\n",
      "memory usage: 11.2 MB\n"
     ]
    }
   ],
   "source": [
    "df.info()"
   ]
  },
  {
   "cell_type": "code",
   "execution_count": null,
   "metadata": {},
   "outputs": [],
   "source": []
  }
 ],
 "metadata": {
  "kernelspec": {
   "display_name": "Python 3",
   "language": "python",
   "name": "python3"
  },
  "language_info": {
   "codemirror_mode": {
    "name": "ipython",
    "version": 3
   },
   "file_extension": ".py",
   "mimetype": "text/x-python",
   "name": "python",
   "nbconvert_exporter": "python",
   "pygments_lexer": "ipython3",
   "version": "3.6.6"
  }
 },
 "nbformat": 4,
 "nbformat_minor": 2
}
