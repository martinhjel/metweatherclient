{
 "cells": [
  {
   "cell_type": "code",
   "execution_count": 19,
   "metadata": {},
   "outputs": [],
   "source": [
    "import sys\n",
    "import os\n",
    "import pandas as pd\n",
    "import matplotlib.pyplot as plt"
   ]
  },
  {
   "cell_type": "code",
   "execution_count": 3,
   "metadata": {},
   "outputs": [],
   "source": [
    "sys.path.insert(1, os.path.join(sys.path[0], '..'))"
   ]
  },
  {
   "cell_type": "code",
   "execution_count": 8,
   "metadata": {},
   "outputs": [],
   "source": [
    "from metclient.frost import auth\n",
    "from metclient.geo_locations import GeoLocation"
   ]
  },
  {
   "cell_type": "code",
   "execution_count": 11,
   "metadata": {},
   "outputs": [],
   "source": [
    "session = auth.Session(config_file='../config/config.ini')\n",
    "poly = GeoLocation(place_id=198727066) # Oslo municipality"
   ]
  },
  {
   "cell_type": "code",
   "execution_count": 12,
   "metadata": {},
   "outputs": [],
   "source": [
    "params = {\n",
    "    \"referencetime\": \"latest\",\n",
    "    \"maxage\": \"P10Y\",\n",
    "    \"geometry\": poly.get_simplified_wkt(max_char_size=1800)\n",
    "}"
   ]
  },
  {
   "cell_type": "code",
   "execution_count": 13,
   "metadata": {},
   "outputs": [],
   "source": [
    "df = session.get_data_frame(type='lightning', dict_params=params)"
   ]
  },
  {
   "cell_type": "code",
   "execution_count": 15,
   "metadata": {},
   "outputs": [
    {
     "data": {
      "text/html": [
       "<div>\n",
       "<style scoped>\n",
       "    .dataframe tbody tr th:only-of-type {\n",
       "        vertical-align: middle;\n",
       "    }\n",
       "\n",
       "    .dataframe tbody tr th {\n",
       "        vertical-align: top;\n",
       "    }\n",
       "\n",
       "    .dataframe thead th {\n",
       "        text-align: right;\n",
       "    }\n",
       "</style>\n",
       "<table border=\"1\" class=\"dataframe\">\n",
       "  <thead>\n",
       "    <tr style=\"text-align: right;\">\n",
       "      <th></th>\n",
       "      <th>version</th>\n",
       "      <th>year</th>\n",
       "      <th>month</th>\n",
       "      <th>day</th>\n",
       "      <th>hour</th>\n",
       "      <th>minutes</th>\n",
       "      <th>seconds</th>\n",
       "      <th>nanoseconds</th>\n",
       "      <th>latitude</th>\n",
       "      <th>longitude</th>\n",
       "      <th>...</th>\n",
       "      <th>semiMajorAxis</th>\n",
       "      <th>semiMinorAxis</th>\n",
       "      <th>chiSquareValue</th>\n",
       "      <th>riseTime</th>\n",
       "      <th>peakToZeroTime</th>\n",
       "      <th>maxRateOfRise</th>\n",
       "      <th>cloudIndicator</th>\n",
       "      <th>angleIndicator</th>\n",
       "      <th>signalIndicator</th>\n",
       "      <th>timingIndicator</th>\n",
       "    </tr>\n",
       "  </thead>\n",
       "  <tbody>\n",
       "    <tr>\n",
       "      <td>0</td>\n",
       "      <td>0</td>\n",
       "      <td>2019</td>\n",
       "      <td>9</td>\n",
       "      <td>1</td>\n",
       "      <td>4</td>\n",
       "      <td>15</td>\n",
       "      <td>44</td>\n",
       "      <td>86878976</td>\n",
       "      <td>59.9993</td>\n",
       "      <td>10.5829</td>\n",
       "      <td>...</td>\n",
       "      <td>0.49</td>\n",
       "      <td>0.4</td>\n",
       "      <td>0.76</td>\n",
       "      <td>21.4</td>\n",
       "      <td>4.4</td>\n",
       "      <td>0.7</td>\n",
       "      <td>1</td>\n",
       "      <td>1</td>\n",
       "      <td>0</td>\n",
       "      <td>1</td>\n",
       "    </tr>\n",
       "    <tr>\n",
       "      <td>1</td>\n",
       "      <td>0</td>\n",
       "      <td>2019</td>\n",
       "      <td>9</td>\n",
       "      <td>1</td>\n",
       "      <td>4</td>\n",
       "      <td>15</td>\n",
       "      <td>44</td>\n",
       "      <td>86889216</td>\n",
       "      <td>59.9961</td>\n",
       "      <td>10.6738</td>\n",
       "      <td>...</td>\n",
       "      <td>0.40</td>\n",
       "      <td>0.4</td>\n",
       "      <td>0.97</td>\n",
       "      <td>8.1</td>\n",
       "      <td>30.4</td>\n",
       "      <td>-0.0</td>\n",
       "      <td>0</td>\n",
       "      <td>1</td>\n",
       "      <td>0</td>\n",
       "      <td>1</td>\n",
       "    </tr>\n",
       "    <tr>\n",
       "      <td>2</td>\n",
       "      <td>0</td>\n",
       "      <td>2019</td>\n",
       "      <td>9</td>\n",
       "      <td>1</td>\n",
       "      <td>4</td>\n",
       "      <td>15</td>\n",
       "      <td>43</td>\n",
       "      <td>200306432</td>\n",
       "      <td>59.8881</td>\n",
       "      <td>10.7739</td>\n",
       "      <td>...</td>\n",
       "      <td>0.40</td>\n",
       "      <td>0.4</td>\n",
       "      <td>2.92</td>\n",
       "      <td>12.5</td>\n",
       "      <td>9.9</td>\n",
       "      <td>2.1</td>\n",
       "      <td>0</td>\n",
       "      <td>1</td>\n",
       "      <td>0</td>\n",
       "      <td>1</td>\n",
       "    </tr>\n",
       "    <tr>\n",
       "      <td>3</td>\n",
       "      <td>0</td>\n",
       "      <td>2019</td>\n",
       "      <td>9</td>\n",
       "      <td>1</td>\n",
       "      <td>4</td>\n",
       "      <td>15</td>\n",
       "      <td>43</td>\n",
       "      <td>605063936</td>\n",
       "      <td>60.0135</td>\n",
       "      <td>10.8106</td>\n",
       "      <td>...</td>\n",
       "      <td>0.40</td>\n",
       "      <td>0.4</td>\n",
       "      <td>4.80</td>\n",
       "      <td>2.2</td>\n",
       "      <td>21.6</td>\n",
       "      <td>-4.3</td>\n",
       "      <td>0</td>\n",
       "      <td>1</td>\n",
       "      <td>0</td>\n",
       "      <td>1</td>\n",
       "    </tr>\n",
       "    <tr>\n",
       "      <td>4</td>\n",
       "      <td>0</td>\n",
       "      <td>2019</td>\n",
       "      <td>9</td>\n",
       "      <td>1</td>\n",
       "      <td>4</td>\n",
       "      <td>15</td>\n",
       "      <td>43</td>\n",
       "      <td>201830656</td>\n",
       "      <td>59.8879</td>\n",
       "      <td>10.7333</td>\n",
       "      <td>...</td>\n",
       "      <td>2.16</td>\n",
       "      <td>0.4</td>\n",
       "      <td>0.53</td>\n",
       "      <td>9.9</td>\n",
       "      <td>44.8</td>\n",
       "      <td>0.4</td>\n",
       "      <td>1</td>\n",
       "      <td>1</td>\n",
       "      <td>0</td>\n",
       "      <td>1</td>\n",
       "    </tr>\n",
       "  </tbody>\n",
       "</table>\n",
       "<p>5 rows × 25 columns</p>\n",
       "</div>"
      ],
      "text/plain": [
       "   version  year  month  day  hour  minutes  seconds  nanoseconds  latitude  \\\n",
       "0        0  2019      9    1     4       15       44     86878976   59.9993   \n",
       "1        0  2019      9    1     4       15       44     86889216   59.9961   \n",
       "2        0  2019      9    1     4       15       43    200306432   59.8881   \n",
       "3        0  2019      9    1     4       15       43    605063936   60.0135   \n",
       "4        0  2019      9    1     4       15       43    201830656   59.8879   \n",
       "\n",
       "   longitude  ...  semiMajorAxis  semiMinorAxis  chiSquareValue  riseTime  \\\n",
       "0    10.5829  ...           0.49            0.4            0.76      21.4   \n",
       "1    10.6738  ...           0.40            0.4            0.97       8.1   \n",
       "2    10.7739  ...           0.40            0.4            2.92      12.5   \n",
       "3    10.8106  ...           0.40            0.4            4.80       2.2   \n",
       "4    10.7333  ...           2.16            0.4            0.53       9.9   \n",
       "\n",
       "   peakToZeroTime  maxRateOfRise  cloudIndicator  angleIndicator  \\\n",
       "0             4.4            0.7               1               1   \n",
       "1            30.4           -0.0               0               1   \n",
       "2             9.9            2.1               0               1   \n",
       "3            21.6           -4.3               0               1   \n",
       "4            44.8            0.4               1               1   \n",
       "\n",
       "   signalIndicator  timingIndicator  \n",
       "0                0                1  \n",
       "1                0                1  \n",
       "2                0                1  \n",
       "3                0                1  \n",
       "4                0                1  \n",
       "\n",
       "[5 rows x 25 columns]"
      ]
     },
     "execution_count": 15,
     "metadata": {},
     "output_type": "execute_result"
    }
   ],
   "source": [
    "df.head()"
   ]
  },
  {
   "cell_type": "code",
   "execution_count": 24,
   "metadata": {},
   "outputs": [
    {
     "data": {
      "text/plain": [
       "2010     316\n",
       "2011     205\n",
       "2012     196\n",
       "2013     394\n",
       "2014     972\n",
       "2015     142\n",
       "2016     462\n",
       "2017      75\n",
       "2018     245\n",
       "2019    1783\n",
       "Name: year, dtype: int64"
      ]
     },
     "execution_count": 24,
     "metadata": {},
     "output_type": "execute_result"
    }
   ],
   "source": [
    "df[\"year\"].value_counts().sort_index()"
   ]
  },
  {
   "cell_type": "code",
   "execution_count": 23,
   "metadata": {},
   "outputs": [
    {
     "data": {
      "text/plain": [
       "<matplotlib.axes._subplots.AxesSubplot at 0x208f9f58c08>"
      ]
     },
     "execution_count": 23,
     "metadata": {},
     "output_type": "execute_result"
    },
    {
     "data": {
      "image/png": "[encoded data removed]",
      "text/plain": [
       "<Figure size 432x288 with 1 Axes>"
      ]
     },
     "metadata": {
      "needs_background": "light"
     },
     "output_type": "display_data"
    }
   ],
   "source": [
    "df[\"year\"].value_counts().sort_index().plot()"
   ]
  }
 ],
 "metadata": {
  "kernelspec": {
   "display_name": "Python 3",
   "language": "python",
   "name": "python3"
  },
  "language_info": {
   "codemirror_mode": {
    "name": "ipython",
    "version": 3
   },
   "file_extension": ".py",
   "mimetype": "text/x-python",
   "name": "python",
   "nbconvert_exporter": "python",
   "pygments_lexer": "ipython3",
   "version": "3.7.4"
  }
 },
 "nbformat": 4,
 "nbformat_minor": 2
}
